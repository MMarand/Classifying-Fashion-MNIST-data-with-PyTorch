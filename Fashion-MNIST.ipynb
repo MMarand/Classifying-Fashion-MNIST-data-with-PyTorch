{
 "cells": [
  {
   "cell_type": "markdown",
   "metadata": {},
   "source": [
    "# Classifying Fashion-MNIST\n",
    "\n",
    "\n",
    "In this project, I'll build my own neural network and will classify the Fashion MNIST data with PyTorch\n"
   ]
  },
  {
   "cell_type": "code",
   "execution_count": 30,
   "metadata": {},
   "outputs": [],
   "source": [
    "import torch\n",
    "from torchvision import datasets, transforms\n",
    "import helper\n",
    "\n",
    "# Define a transform to normalize the data\n",
    "transform = transforms.Compose([transforms.ToTensor(),\n",
    "                                transforms.Normalize((0.5, 0.5, 0.5), (0.5, 0.5, 0.5))])\n",
    "# Download and load the training data\n",
    "trainset = datasets.FashionMNIST('F_MNIST_data/', download=True, train=True, transform=transform)\n",
    "trainloader = torch.utils.data.DataLoader(trainset, batch_size=16, shuffle=True)\n",
    "\n",
    "# Download and load the test data\n",
    "testset = datasets.FashionMNIST('F_MNIST_data/', download=True, train=False, transform=transform)\n",
    "testloader = torch.utils.data.DataLoader(testset, batch_size=64, shuffle=True)"
   ]
  },
  {
   "cell_type": "markdown",
   "metadata": {},
   "source": [
    "Here we can see one of the images."
   ]
  },
  {
   "cell_type": "code",
   "execution_count": 31,
   "metadata": {},
   "outputs": [
    {
     "data": {
      "image/png": "[encoded data removed]",
      "text/plain": [
       "<matplotlib.figure.Figure at 0x7f555d26dbe0>"
      ]
     },
     "metadata": {
      "image/png": {
       "height": 233,
       "width": 233
      },
      "needs_background": "light"
     },
     "output_type": "display_data"
    }
   ],
   "source": [
    "image, label = next(iter(trainloader))\n",
    "helper.imshow(image[0,:]);"
   ]
  },
  {
   "cell_type": "markdown",
   "metadata": {},
   "source": [
    "With the data loaded, it's time to import the necessary packages."
   ]
  },
  {
   "cell_type": "code",
   "execution_count": 32,
   "metadata": {},
   "outputs": [],
   "source": [
    "%matplotlib inline\n",
    "%config InlineBackend.figure_format = 'retina'\n",
    "\n",
    "import matplotlib.pyplot as plt\n",
    "import numpy as np\n",
    "import time\n",
    "\n",
    "import torch\n",
    "from torch import nn\n",
    "from torch import optim\n",
    "import torch.nn.functional as F\n",
    "from torchvision import datasets, transforms\n",
    "\n",
    "import helper"
   ]
  },
  {
   "cell_type": "markdown",
   "metadata": {},
   "source": [
    "## Building the network\n",
    "\n",
    "Here you should define your network. As with MNIST, each image is 28x28 which is a total of 784 pixels, and there are 10 classes. You should include at least one hidden layer. We suggest you use ReLU activations for the layers and to return the logits from the forward pass. It's up to you how many layers you add and the size of those layers."
   ]
  },
  {
   "cell_type": "code",
   "execution_count": 33,
   "metadata": {},
   "outputs": [
    {
     "data": {
      "text/plain": [
       "network(\n",
       "  (fc1): Linear(in_features=784, out_features=300, bias=True)\n",
       "  (fc21): Linear(in_features=300, out_features=150, bias=True)\n",
       "  (fc22): Linear(in_features=150, out_features=70, bias=True)\n",
       "  (fc3): Linear(in_features=70, out_features=10, bias=True)\n",
       ")"
      ]
     },
     "execution_count": 33,
     "metadata": {},
     "output_type": "execute_result"
    }
   ],
   "source": [
    "# TODO: Define your network architecture here\n",
    "class network (nn.Module) :\n",
    "    def __init__ (self):\n",
    "        super().__init__()\n",
    "        \n",
    "        self.fc1=nn.Linear(784,300)\n",
    "        #self.fc20=nn.Linear(500,300)\n",
    "        self.fc21=nn.Linear(300,150)\n",
    "        self.fc22=nn.Linear(150,70)\n",
    "        self.fc3=nn.Linear(70,10)\n",
    "        \n",
    "    def forward(self,x):\n",
    "        x=F.relu(self.fc1(x))\n",
    "        #x=F.relu(self.fc20(x))\n",
    "        x=F.relu(self.fc21(x))\n",
    "        x=F.relu(self.fc22(x))\n",
    "        x=F.softmax(self.fc3(x), dim=1)        \n",
    "        return x\n",
    "    \n",
    "model=network()\n",
    "\n",
    "model"
   ]
  },
  {
   "cell_type": "markdown",
   "metadata": {},
   "source": [
    "# Train the network\n",
    "\n",
    "Now you should create your network and train it. First you'll want to define [the criterion](http://pytorch.org/docs/master/nn.html#loss-functions) ( something like `nn.CrossEntropyLoss`) and [the optimizer](http://pytorch.org/docs/master/optim.html) (typically `optim.SGD` or `optim.Adam`).\n",
    "\n",
    "Then write the training code. Remember the training pass is a fairly straightforward process:\n",
    "\n",
    "* Make a forward pass through the network to get the logits \n",
    "* Use the logits to calculate the loss\n",
    "* Perform a backward pass through the network with `loss.backward()` to* Take a step with the optimizer to update the weights\n",
    " calculate the gradients\n",
    "\n",
    "By adjusting the hyperparameters (hidden units, learning rate, etc), you should be able to get the training loss below 0.4."
   ]
  },
  {
   "cell_type": "code",
   "execution_count": 36,
   "metadata": {},
   "outputs": [],
   "source": [
    "criterion=nn.CrossEntropyLoss()\n",
    "optimizer=optim.SGD(model.parameters(),lr=0.001)"
   ]
  },
  {
   "cell_type": "code",
   "execution_count": 37,
   "metadata": {},
   "outputs": [
    {
     "name": "stdout",
     "output_type": "stream",
     "text": [
      "Epoch:1/15... Loss: 1.6515\n",
      "Epoch:1/15... Loss: 1.6449\n",
      "Epoch:1/15... Loss: 1.6410\n",
      "Epoch:2/15... Loss: 0.4114\n",
      "Epoch:2/15... Loss: 1.6430\n",
      "Epoch:2/15... Loss: 1.6390\n",
      "Epoch:2/15... Loss: 1.6373\n",
      "Epoch:3/15... Loss: 0.8208\n",
      "Epoch:3/15... Loss: 1.6346\n",
      "Epoch:3/15... Loss: 1.6394\n",
      "Epoch:3/15... Loss: 1.6377\n",
      "Epoch:4/15... Loss: 1.2236\n",
      "Epoch:4/15... Loss: 1.6380\n",
      "Epoch:4/15... Loss: 1.6362\n",
      "Epoch:4/15... Loss: 1.6383\n",
      "Epoch:5/15... Loss: 1.6400\n",
      "Epoch:5/15... Loss: 1.6330\n",
      "Epoch:5/15... Loss: 1.6360\n",
      "Epoch:6/15... Loss: 0.4072\n",
      "Epoch:6/15... Loss: 1.6336\n",
      "Epoch:6/15... Loss: 1.6351\n",
      "Epoch:6/15... Loss: 1.6349\n",
      "Epoch:7/15... Loss: 0.8153\n",
      "Epoch:7/15... Loss: 1.6334\n",
      "Epoch:7/15... Loss: 1.6409\n",
      "Epoch:7/15... Loss: 1.6325\n",
      "Epoch:8/15... Loss: 1.2256\n",
      "Epoch:8/15... Loss: 1.6325\n",
      "Epoch:8/15... Loss: 1.6353\n",
      "Epoch:8/15... Loss: 1.6337\n",
      "Epoch:9/15... Loss: 1.6304\n",
      "Epoch:9/15... Loss: 1.6314\n",
      "Epoch:9/15... Loss: 1.6407\n",
      "Epoch:10/15... Loss: 0.4073\n",
      "Epoch:10/15... Loss: 1.6363\n",
      "Epoch:10/15... Loss: 1.6332\n",
      "Epoch:10/15... Loss: 1.6289\n",
      "Epoch:11/15... Loss: 0.8162\n",
      "Epoch:11/15... Loss: 1.6324\n",
      "Epoch:11/15... Loss: 1.6333\n",
      "Epoch:11/15... Loss: 1.6326\n",
      "Epoch:12/15... Loss: 1.2268\n",
      "Epoch:12/15... Loss: 1.6346\n",
      "Epoch:12/15... Loss: 1.6330\n",
      "Epoch:12/15... Loss: 1.6273\n",
      "Epoch:13/15... Loss: 1.6343\n",
      "Epoch:13/15... Loss: 1.6327\n",
      "Epoch:13/15... Loss: 1.6316\n",
      "Epoch:14/15... Loss: 0.4068\n",
      "Epoch:14/15... Loss: 1.6352\n",
      "Epoch:14/15... Loss: 1.6296\n",
      "Epoch:14/15... Loss: 1.6331\n",
      "Epoch:15/15... Loss: 0.8169\n",
      "Epoch:15/15... Loss: 1.6288\n",
      "Epoch:15/15... Loss: 1.6343\n",
      "Epoch:15/15... Loss: 1.6323\n"
     ]
    }
   ],
   "source": [
    "epochs=15\n",
    "print_every=1000\n",
    "steps=0\n",
    "\n",
    "for e in range(epochs):\n",
    "    running_loss=0\n",
    "    for images,labels in trainloader:\n",
    "        steps+=1\n",
    "        images.resize_(images.shape[0],784)\n",
    "        optimizer.zero_grad()\n",
    "        output=model.forward(images)\n",
    "        loss=criterion(output,labels)\n",
    "        loss.backward()\n",
    "        optimizer.step()\n",
    "        running_loss+=loss.item()\n",
    "        \n",
    "        if steps % print_every==0:\n",
    "            print(\"Epoch:{}/{}...\".format(e+1,epochs),\n",
    "                  \"Loss: {:.4f}\".format(running_loss/print_every))\n",
    "        \n",
    "\n",
    "            running_loss=0"
   ]
  },
  {
   "cell_type": "code",
   "execution_count": 38,
   "metadata": {},
   "outputs": [
    {
     "data": {
      "image/png": "[encoded data removed]",
      "text/plain": [
       "<matplotlib.figure.Figure at 0x7f55609bdd68>"
      ]
     },
     "metadata": {
      "image/png": {
       "height": 204,
       "width": 423
      },
      "needs_background": "light"
     },
     "output_type": "display_data"
    }
   ],
   "source": [
    "dataiter = iter(testloader)\n",
    "images, labels = next(iter(trainloader))\n",
    "\n",
    "# Convert 2D image to 1D vector\n",
    "img=images[3].view(1,784)\n",
    "with torch.no_grad():\n",
    "    logits=model.forward(img)\n",
    "# TODO: Calculate the class probabilities (softmax) for img\n",
    "ps = F.softmax(logits,dim=1)\n",
    "# Plot the image and probabilities\n",
    "helper.view_classify(img.view(1,28,28), ps, version='Fashion')"
   ]
  }
 ],
 "metadata": {
  "kernelspec": {
   "display_name": "Python 3",
   "language": "python",
   "name": "python3"
  },
  "language_info": {
   "codemirror_mode": {
    "name": "ipython",
    "version": 3
   },
   "file_extension": ".py",
   "mimetype": "text/x-python",
   "name": "python",
   "nbconvert_exporter": "python",
   "pygments_lexer": "ipython3",
   "version": "3.6.3"
  }
 },
 "nbformat": 4,
 "nbformat_minor": 2
}
